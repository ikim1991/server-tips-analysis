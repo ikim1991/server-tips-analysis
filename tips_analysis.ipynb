{
 "cells": [
  {
   "cell_type": "markdown",
   "metadata": {},
   "source": [
    "# Server Tips Analysis"
   ]
  },
  {
   "cell_type": "markdown",
   "metadata": {},
   "source": [
    "### Importing libraries for data manipulation and visualization"
   ]
  },
  {
   "cell_type": "code",
   "execution_count": 1,
   "metadata": {},
   "outputs": [],
   "source": [
    "import numpy as np\n",
    "import pandas as pd\n",
    "import matplotlib.pyplot as plt\n",
    "import seaborn as sns"
   ]
  },
  {
   "cell_type": "markdown",
   "metadata": {},
   "source": [
    "### Load Dataset for manipulation and cleaning"
   ]
  },
  {
   "cell_type": "code",
   "execution_count": 2,
   "metadata": {},
   "outputs": [
    {
     "name": "stdout",
     "output_type": "stream",
     "text": [
      "<class 'pandas.core.frame.DataFrame'>\n",
      "Int64Index: 78 entries, 0 to 42\n",
      "Data columns (total 5 columns):\n",
      "Day            78 non-null object\n",
      "Tips           78 non-null float64\n",
      "Cash Amount    78 non-null float64\n",
      "Sales          78 non-null float64\n",
      "Shift          78 non-null object\n",
      "dtypes: float64(3), object(2)\n",
      "memory usage: 3.7+ KB\n"
     ]
    }
   ],
   "source": [
    "day = pd.read_csv('day_shifts.csv')\n",
    "night = pd.read_csv('night_shifts.csv')\n",
    "doubles = pd.read_csv('double_shifts.csv')\n",
    "\n",
    "# Dropping columns we do not need\n",
    "day.drop(['Number of Covers', 'Average Check Amount', 'Total Number of Checks'], axis=1, inplace=True)\n",
    "night.drop(['Number of Covers', 'Average Check Amount', 'Total Number of Checks'], axis=1, inplace=True)\n",
    "doubles.drop(['Number of Covers', 'Average Check Amount', 'Total Number of Checks'], axis=1, inplace=True)\n",
    "\n",
    "# Combine the day and night dataframes into a master dataset\n",
    "day['Shift'] = 'Day'\n",
    "night['Shift'] = 'Night'\n",
    "shifts_worked = day.append(night)\n",
    "shifts_worked.info()"
   ]
  },
  {
   "cell_type": "code",
   "execution_count": 3,
   "metadata": {},
   "outputs": [
    {
     "name": "stdout",
     "output_type": "stream",
     "text": [
      "<class 'pandas.core.frame.DataFrame'>\n",
      "Int64Index: 78 entries, 0 to 42\n",
      "Data columns (total 6 columns):\n",
      "Day            78 non-null object\n",
      "Tips           78 non-null float64\n",
      "Cash Amount    78 non-null float64\n",
      "Sales          78 non-null float64\n",
      "Shift          78 non-null object\n",
      "My Tips        78 non-null float64\n",
      "dtypes: float64(4), object(2)\n",
      "memory usage: 4.3+ KB\n"
     ]
    }
   ],
   "source": [
    "# Adding a new column of data, My Tips, Amount of tips a server yields after tipping out the kitchen and bar (6%)\n",
    "# Assuming people who pay in cash tip in cash, randomized between 10 to 18%.\n",
    "shifts_worked['My Tips'] = round(shifts_worked['Tips'] - (shifts_worked['Sales'] * 0.06) + (shifts_worked['Cash Amount'] * np.random.randint(10,19) / 100), 2)\n",
    "shifts_worked.info()"
   ]
  },
  {
   "cell_type": "markdown",
   "metadata": {},
   "source": [
    "### Extrapolating and Splitting Doubles Dataset into Day and Night"
   ]
  },
  {
   "cell_type": "code",
   "execution_count": 4,
   "metadata": {},
   "outputs": [
    {
     "data": {
      "text/plain": [
       "1.5092061207329184"
      ]
     },
     "execution_count": 4,
     "metadata": {},
     "output_type": "execute_result"
    }
   ],
   "source": [
    "# Extrapolating doubles dataset using the Day and Night datasets to split double shifts worked into Day and Night\n",
    "avg_day_tip = shifts_worked[shifts_worked['Shift'] == 'Day']['My Tips'].values.mean()\n",
    "avg_night_tip = shifts_worked[shifts_worked['Shift'] == 'Night']['My Tips'].values.mean()\n",
    "avg_night_tip / avg_day_tip"
   ]
  },
  {
   "cell_type": "code",
   "execution_count": 5,
   "metadata": {},
   "outputs": [
    {
     "data": {
      "text/plain": [
       "0.39853242495196384"
      ]
     },
     "execution_count": 5,
     "metadata": {},
     "output_type": "execute_result"
    }
   ],
   "source": [
    "# On average you can expect to make 54% more on a night shift compared to a day shift\n",
    "ratio = avg_day_tip / (avg_day_tip + avg_night_tip)\n",
    "ratio"
   ]
  },
  {
   "cell_type": "code",
   "execution_count": 6,
   "metadata": {},
   "outputs": [],
   "source": [
    "# Same as above for the Day and Night datasets adding a My Tips column\n",
    "doubles['My Tips'] = round(doubles['Tips'] - (doubles['Sales'] * 0.06) + (doubles['Cash Amount'] * np.random.randint(10,16) / 100), 2)\n",
    "\n",
    "# Split Doubles into Day and Night by using the Ratio above\n",
    "day_multiplier = np.ones(np.shape(doubles['Tips'])) * ratio\n",
    "night_multiplier = np.ones(np.shape(doubles['Tips'])) * (1-ratio)\n",
    "doubles_day = doubles.copy(deep=True)\n",
    "doubles_night = doubles.copy(deep=True)\n",
    "\n",
    "# Extrapolate new datasets\n",
    "doubles_day['Tips'] = round(doubles_day['Tips'] * day_multiplier, 2)\n",
    "doubles_day['Cash Amount'] = round(doubles_day['Cash Amount'] * day_multiplier, 2)\n",
    "doubles_day['Sales'] = round(doubles_day['Sales'] * day_multiplier, 2)\n",
    "doubles_day['My Tips'] = round(doubles_day['My Tips'] * day_multiplier, 2)\n",
    "doubles_night['Tips'] = round(doubles_night['Tips'] * night_multiplier, 2)\n",
    "doubles_night['Cash Amount'] = round(doubles_night['Cash Amount'] * night_multiplier, 2)\n",
    "doubles_night['Sales'] = round(doubles_night['Sales'] * night_multiplier, 2)\n",
    "doubles_night['My Tips'] = round(doubles_night['My Tips'] * night_multiplier, 2)\n",
    "doubles_day['Shift'] = 'Day'\n",
    "doubles_night['Shift'] = 'Night'\n",
    "\n",
    "# Append new datasets into the master dataset\n",
    "shifts_worked = shifts_worked.append([doubles_day, doubles_night], sort=False)"
   ]
  },
  {
   "cell_type": "code",
   "execution_count": 7,
   "metadata": {},
   "outputs": [
    {
     "name": "stdout",
     "output_type": "stream",
     "text": [
      "<class 'pandas.core.frame.DataFrame'>\n",
      "Int64Index: 128 entries, 0 to 42\n",
      "Data columns (total 7 columns):\n",
      "Day            128 non-null object\n",
      "Tips           128 non-null float64\n",
      "Cash Amount    128 non-null float64\n",
      "Sales          128 non-null float64\n",
      "Shift          128 non-null object\n",
      "My Tips        128 non-null float64\n",
      "Days Sort      128 non-null int64\n",
      "dtypes: float64(4), int64(1), object(2)\n",
      "memory usage: 8.0+ KB\n"
     ]
    }
   ],
   "source": [
    "# Sorting dataset by Shift and Day\n",
    "days_transform = {'Monday':0, 'Tuesday':1, 'Wednesday':2, 'Thursday':3, 'Friday':4, 'Saturday':5, 'Sunday':6}\n",
    "days_reverse = {0:'Monday', 1:'Tuesday', 2:'Wednesday', 3:'Thursday', 4:'Friday', 5:'Saturday', 6:'Sunday'}\n",
    "# Map Categorical column Day to numerical for sorting\n",
    "shifts_worked['Days Sort'] = shifts_worked.Day.map(days_transform)\n",
    "shifts_worked.sort_values(['Shift', 'Days Sort'], inplace=True)\n",
    "shifts_worked.info()"
   ]
  },
  {
   "cell_type": "markdown",
   "metadata": {},
   "source": [
    "### Data Visualization and Analysis"
   ]
  },
  {
   "cell_type": "code",
   "execution_count": 8,
   "metadata": {},
   "outputs": [
    {
     "data": {
      "text/html": [
       "<div>\n",
       "<style scoped>\n",
       "    .dataframe tbody tr th:only-of-type {\n",
       "        vertical-align: middle;\n",
       "    }\n",
       "\n",
       "    .dataframe tbody tr th {\n",
       "        vertical-align: top;\n",
       "    }\n",
       "\n",
       "    .dataframe thead th {\n",
       "        text-align: right;\n",
       "    }\n",
       "</style>\n",
       "<table border=\"1\" class=\"dataframe\">\n",
       "  <thead>\n",
       "    <tr style=\"text-align: right;\">\n",
       "      <th></th>\n",
       "      <th>Day</th>\n",
       "      <th>Shift</th>\n",
       "      <th>Tips</th>\n",
       "      <th>Sales</th>\n",
       "      <th>Days Sort</th>\n",
       "      <th>My Tips</th>\n",
       "    </tr>\n",
       "  </thead>\n",
       "  <tbody>\n",
       "    <tr>\n",
       "      <th>0</th>\n",
       "      <td>Monday</td>\n",
       "      <td>Day</td>\n",
       "      <td>11</td>\n",
       "      <td>565.873636</td>\n",
       "      <td>0</td>\n",
       "      <td>57.285455</td>\n",
       "    </tr>\n",
       "    <tr>\n",
       "      <th>1</th>\n",
       "      <td>Monday</td>\n",
       "      <td>Night</td>\n",
       "      <td>12</td>\n",
       "      <td>654.396667</td>\n",
       "      <td>0</td>\n",
       "      <td>65.920833</td>\n",
       "    </tr>\n",
       "    <tr>\n",
       "      <th>2</th>\n",
       "      <td>Tuesday</td>\n",
       "      <td>Day</td>\n",
       "      <td>15</td>\n",
       "      <td>521.032000</td>\n",
       "      <td>1</td>\n",
       "      <td>53.606000</td>\n",
       "    </tr>\n",
       "    <tr>\n",
       "      <th>3</th>\n",
       "      <td>Tuesday</td>\n",
       "      <td>Night</td>\n",
       "      <td>5</td>\n",
       "      <td>661.906000</td>\n",
       "      <td>1</td>\n",
       "      <td>66.642000</td>\n",
       "    </tr>\n",
       "    <tr>\n",
       "      <th>4</th>\n",
       "      <td>Wednesday</td>\n",
       "      <td>Day</td>\n",
       "      <td>15</td>\n",
       "      <td>469.636667</td>\n",
       "      <td>2</td>\n",
       "      <td>47.096000</td>\n",
       "    </tr>\n",
       "    <tr>\n",
       "      <th>5</th>\n",
       "      <td>Wednesday</td>\n",
       "      <td>Night</td>\n",
       "      <td>10</td>\n",
       "      <td>752.547000</td>\n",
       "      <td>2</td>\n",
       "      <td>73.311000</td>\n",
       "    </tr>\n",
       "    <tr>\n",
       "      <th>6</th>\n",
       "      <td>Thursday</td>\n",
       "      <td>Day</td>\n",
       "      <td>9</td>\n",
       "      <td>433.468889</td>\n",
       "      <td>3</td>\n",
       "      <td>44.374444</td>\n",
       "    </tr>\n",
       "    <tr>\n",
       "      <th>7</th>\n",
       "      <td>Thursday</td>\n",
       "      <td>Night</td>\n",
       "      <td>11</td>\n",
       "      <td>952.562727</td>\n",
       "      <td>3</td>\n",
       "      <td>93.271818</td>\n",
       "    </tr>\n",
       "    <tr>\n",
       "      <th>8</th>\n",
       "      <td>Friday</td>\n",
       "      <td>Day</td>\n",
       "      <td>8</td>\n",
       "      <td>581.381250</td>\n",
       "      <td>4</td>\n",
       "      <td>53.043750</td>\n",
       "    </tr>\n",
       "    <tr>\n",
       "      <th>9</th>\n",
       "      <td>Friday</td>\n",
       "      <td>Night</td>\n",
       "      <td>13</td>\n",
       "      <td>1064.471538</td>\n",
       "      <td>4</td>\n",
       "      <td>85.386154</td>\n",
       "    </tr>\n",
       "    <tr>\n",
       "      <th>10</th>\n",
       "      <td>Saturday</td>\n",
       "      <td>Night</td>\n",
       "      <td>10</td>\n",
       "      <td>1235.447000</td>\n",
       "      <td>5</td>\n",
       "      <td>114.004000</td>\n",
       "    </tr>\n",
       "    <tr>\n",
       "      <th>11</th>\n",
       "      <td>Sunday</td>\n",
       "      <td>Day</td>\n",
       "      <td>2</td>\n",
       "      <td>1118.935000</td>\n",
       "      <td>6</td>\n",
       "      <td>107.495000</td>\n",
       "    </tr>\n",
       "    <tr>\n",
       "      <th>12</th>\n",
       "      <td>Sunday</td>\n",
       "      <td>Night</td>\n",
       "      <td>7</td>\n",
       "      <td>768.710000</td>\n",
       "      <td>6</td>\n",
       "      <td>48.407143</td>\n",
       "    </tr>\n",
       "  </tbody>\n",
       "</table>\n",
       "</div>"
      ],
      "text/plain": [
       "          Day  Shift  Tips        Sales  Days Sort     My Tips\n",
       "0      Monday    Day    11   565.873636          0   57.285455\n",
       "1      Monday  Night    12   654.396667          0   65.920833\n",
       "2     Tuesday    Day    15   521.032000          1   53.606000\n",
       "3     Tuesday  Night     5   661.906000          1   66.642000\n",
       "4   Wednesday    Day    15   469.636667          2   47.096000\n",
       "5   Wednesday  Night    10   752.547000          2   73.311000\n",
       "6    Thursday    Day     9   433.468889          3   44.374444\n",
       "7    Thursday  Night    11   952.562727          3   93.271818\n",
       "8      Friday    Day     8   581.381250          4   53.043750\n",
       "9      Friday  Night    13  1064.471538          4   85.386154\n",
       "10   Saturday  Night    10  1235.447000          5  114.004000\n",
       "11     Sunday    Day     2  1118.935000          6  107.495000\n",
       "12     Sunday  Night     7   768.710000          6   48.407143"
      ]
     },
     "execution_count": 8,
     "metadata": {},
     "output_type": "execute_result"
    }
   ],
   "source": [
    "# Group and Aggregate data for bar plot, by count and average\n",
    "plot_data = shifts_worked.groupby(['Day', 'Shift']).agg({'Tips':'count', 'Sales':'mean', 'Days Sort':'mean', 'My Tips':'mean'}).sort_values('Days Sort').reset_index()\n",
    "plot_data"
   ]
  },
  {
   "cell_type": "code",
   "execution_count": 9,
   "metadata": {},
   "outputs": [
    {
     "name": "stdout",
     "output_type": "stream",
     "text": [
      "<class 'pandas.core.frame.DataFrame'>\n",
      "RangeIndex: 13 entries, 0 to 12\n",
      "Data columns (total 6 columns):\n",
      "Day          13 non-null object\n",
      "Shift        13 non-null object\n",
      "Tips         13 non-null int64\n",
      "Sales        13 non-null float64\n",
      "Days Sort    13 non-null int64\n",
      "My Tips      13 non-null float64\n",
      "dtypes: float64(2), int64(2), object(2)\n",
      "memory usage: 704.0+ bytes\n"
     ]
    }
   ],
   "source": [
    "plot_data.info()"
   ]
  },
  {
   "cell_type": "code",
   "execution_count": 10,
   "metadata": {},
   "outputs": [
    {
     "data": {
      "text/plain": [
       "Text(0.5, 1.0, 'Number of Days Worked by Day of the Week and Shift')"
      ]
     },
     "execution_count": 10,
     "metadata": {},
     "output_type": "execute_result"
    },
    {
     "data": {
      "image/png": "[encoded data removed]",
      "text/plain": [
       "<Figure size 504x360 with 1 Axes>"
      ]
     },
     "metadata": {
      "needs_background": "light"
     },
     "output_type": "display_data"
    }
   ],
   "source": [
    "# Visualizing the frequency of days worked during the week by day and night using Seaborn Bar Plot\n",
    "plt.figure(figsize=(7,5))\n",
    "sns.barplot(x='Day', y='Tips',hue='Shift',data=plot_data)\n",
    "plt.xlabel('Day of Week')\n",
    "plt.ylabel('Number of Days Worked')\n",
    "plt.title('Number of Days Worked by Day of the Week and Shift')"
   ]
  },
  {
   "cell_type": "code",
   "execution_count": 11,
   "metadata": {},
   "outputs": [
    {
     "data": {
      "text/plain": [
       "Text(0.5, 1.0, 'Average Sales Volume by Day of the Week and Shift')"
      ]
     },
     "execution_count": 11,
     "metadata": {},
     "output_type": "execute_result"
    },
    {
     "data": {
      "image/png": "[encoded data removed]",
      "text/plain": [
       "<Figure size 504x360 with 1 Axes>"
      ]
     },
     "metadata": {
      "needs_background": "light"
     },
     "output_type": "display_data"
    }
   ],
   "source": [
    "# Visualizing the Average Sales Volume by day and night using Seaborn Bar Plot\n",
    "plt.figure(figsize=(7,5))\n",
    "sns.barplot(x='Day', y='Sales',hue='Shift',data=plot_data)\n",
    "plt.xlabel('Day of Week')\n",
    "plt.ylabel('Average Sales Volume')\n",
    "plt.title('Average Sales Volume by Day of the Week and Shift')"
   ]
  },
  {
   "cell_type": "code",
   "execution_count": 12,
   "metadata": {},
   "outputs": [
    {
     "data": {
      "text/plain": [
       "Text(0.5, 1.0, 'Linear Regression - My Tips vs. Average Sales')"
      ]
     },
     "execution_count": 12,
     "metadata": {},
     "output_type": "execute_result"
    },
    {
     "data": {
      "image/png": "[encoded data removed]",
      "text/plain": [
       "<Figure size 1008x504 with 1 Axes>"
      ]
     },
     "metadata": {
      "needs_background": "light"
     },
     "output_type": "display_data"
    }
   ],
   "source": [
    "# Using NumPy and its linear algebra functions to fit a linear regression line of our data\n",
    "mb = np.polyfit(shifts_worked['Sales'], shifts_worked['My Tips'], deg=1)\n",
    "x = np.append(shifts_worked['Sales'].values.reshape(-1,1), np.ones(np.shape(shifts_worked['Sales'].values.reshape(-1,1))), axis=1)\n",
    "y_pred = np.dot(x, mb)\n",
    "# Visualizing the linear regression relationship between Average Sales Volume and Tips Received using Seaborn\n",
    "plt.figure(figsize=(14,7))\n",
    "sns.scatterplot(y='My Tips', x='Sales', hue='Shift', data=shifts_worked)\n",
    "sns.lineplot(x='Sales', y=y_pred, data=shifts_worked, color='r')\n",
    "plt.xlabel('Average Sales Volume')\n",
    "plt.ylabel('My Tips')\n",
    "plt.title('Linear Regression - My Tips vs. Average Sales')"
   ]
  },
  {
   "cell_type": "code",
   "execution_count": 13,
   "metadata": {},
   "outputs": [
    {
     "data": {
      "text/html": [
       "<div>\n",
       "<style scoped>\n",
       "    .dataframe tbody tr th:only-of-type {\n",
       "        vertical-align: middle;\n",
       "    }\n",
       "\n",
       "    .dataframe tbody tr th {\n",
       "        vertical-align: top;\n",
       "    }\n",
       "\n",
       "    .dataframe thead tr th {\n",
       "        text-align: left;\n",
       "    }\n",
       "\n",
       "    .dataframe thead tr:last-of-type th {\n",
       "        text-align: right;\n",
       "    }\n",
       "</style>\n",
       "<table border=\"1\" class=\"dataframe\">\n",
       "  <thead>\n",
       "    <tr>\n",
       "      <th></th>\n",
       "      <th colspan=\"7\" halign=\"left\">My Tips</th>\n",
       "    </tr>\n",
       "    <tr>\n",
       "      <th>Days Sort</th>\n",
       "      <th>0</th>\n",
       "      <th>1</th>\n",
       "      <th>2</th>\n",
       "      <th>3</th>\n",
       "      <th>4</th>\n",
       "      <th>5</th>\n",
       "      <th>6</th>\n",
       "    </tr>\n",
       "    <tr>\n",
       "      <th>Day</th>\n",
       "      <th>Monday</th>\n",
       "      <th>Tuesday</th>\n",
       "      <th>Wednesday</th>\n",
       "      <th>Thursday</th>\n",
       "      <th>Friday</th>\n",
       "      <th>Saturday</th>\n",
       "      <th>Sunday</th>\n",
       "    </tr>\n",
       "    <tr>\n",
       "      <th>Shift</th>\n",
       "      <th></th>\n",
       "      <th></th>\n",
       "      <th></th>\n",
       "      <th></th>\n",
       "      <th></th>\n",
       "      <th></th>\n",
       "      <th></th>\n",
       "    </tr>\n",
       "  </thead>\n",
       "  <tbody>\n",
       "    <tr>\n",
       "      <th>Night</th>\n",
       "      <td>65.920833</td>\n",
       "      <td>66.642</td>\n",
       "      <td>73.311</td>\n",
       "      <td>93.271818</td>\n",
       "      <td>85.386154</td>\n",
       "      <td>114.004000</td>\n",
       "      <td>48.407143</td>\n",
       "    </tr>\n",
       "    <tr>\n",
       "      <th>Day</th>\n",
       "      <td>57.285455</td>\n",
       "      <td>53.606</td>\n",
       "      <td>47.096</td>\n",
       "      <td>44.374444</td>\n",
       "      <td>53.043750</td>\n",
       "      <td>60.483441</td>\n",
       "      <td>107.495000</td>\n",
       "    </tr>\n",
       "  </tbody>\n",
       "</table>\n",
       "</div>"
      ],
      "text/plain": [
       "             My Tips                                                      \\\n",
       "Days Sort          0       1         2          3          4           5   \n",
       "Day           Monday Tuesday Wednesday   Thursday     Friday    Saturday   \n",
       "Shift                                                                      \n",
       "Night      65.920833  66.642    73.311  93.271818  85.386154  114.004000   \n",
       "Day        57.285455  53.606    47.096  44.374444  53.043750   60.483441   \n",
       "\n",
       "                       \n",
       "Days Sort           6  \n",
       "Day            Sunday  \n",
       "Shift                  \n",
       "Night       48.407143  \n",
       "Day        107.495000  "
      ]
     },
     "execution_count": 13,
     "metadata": {},
     "output_type": "execute_result"
    }
   ],
   "source": [
    "# Transform and pivot our data to fit into a heatmap on Seaborn\n",
    "pivoted = pd.pivot_table(shifts_worked, index=['Shift'], columns=['Days Sort', 'Day'], values=['My Tips'])\n",
    "pivoted.sort_index(ascending=False, inplace=True)\n",
    "pivoted.fillna(pivoted.iloc[1,:].mean(), inplace=True)\n",
    "pivoted"
   ]
  },
  {
   "cell_type": "code",
   "execution_count": 14,
   "metadata": {},
   "outputs": [
    {
     "name": "stdout",
     "output_type": "stream",
     "text": [
      "<class 'pandas.core.frame.DataFrame'>\n",
      "Index: 2 entries, Night to Day\n",
      "Data columns (total 7 columns):\n",
      "(My Tips, 0, Monday)       2 non-null float64\n",
      "(My Tips, 1, Tuesday)      2 non-null float64\n",
      "(My Tips, 2, Wednesday)    2 non-null float64\n",
      "(My Tips, 3, Thursday)     2 non-null float64\n",
      "(My Tips, 4, Friday)       2 non-null float64\n",
      "(My Tips, 5, Saturday)     2 non-null float64\n",
      "(My Tips, 6, Sunday)       2 non-null float64\n",
      "dtypes: float64(7)\n",
      "memory usage: 208.0+ bytes\n"
     ]
    }
   ],
   "source": [
    "pivoted.info()"
   ]
  },
  {
   "cell_type": "code",
   "execution_count": 15,
   "metadata": {},
   "outputs": [
    {
     "data": {
      "text/plain": [
       "[Text(87.0, 0.5, 'Shift'),\n",
       " Text(0.5, 51.0, 'Day of the Week'),\n",
       " Text(0.5, 1.0, 'Average Tip Amount by Day of Week and Shift')]"
      ]
     },
     "execution_count": 15,
     "metadata": {},
     "output_type": "execute_result"
    },
    {
     "data": {
      "image/png": "[encoded data removed]",
      "text/plain": [
       "<Figure size 864x576 with 2 Axes>"
      ]
     },
     "metadata": {
      "needs_background": "light"
     },
     "output_type": "display_data"
    }
   ],
   "source": [
    "# Visualizing our Average tips earned by Day of the Week and Shift using Seaborn\n",
    "plt.figure(figsize=(12,8))\n",
    "ax = sns.heatmap(pivoted, annot=True, cmap='YlGnBu', fmt='.3g', center=100, xticklabels=['Monday', 'Tuesday', 'Wednesday', 'Thursday', 'Friday', 'Saturday', 'Sunday'], cbar_kws={'label': 'Average Tips'})\n",
    "ax.set(xlabel='Day of the Week', ylabel='Shift', title='Average Tip Amount by Day of Week and Shift')"
   ]
  },
  {
   "cell_type": "code",
   "execution_count": null,
   "metadata": {},
   "outputs": [],
   "source": []
  }
 ],
 "metadata": {
  "kernelspec": {
   "display_name": "Python 3",
   "language": "python",
   "name": "python3"
  },
  "language_info": {
   "codemirror_mode": {
    "name": "ipython",
    "version": 3
   },
   "file_extension": ".py",
   "mimetype": "text/x-python",
   "name": "python",
   "nbconvert_exporter": "python",
   "pygments_lexer": "ipython3",
   "version": "3.7.3"
  }
 },
 "nbformat": 4,
 "nbformat_minor": 2
}
